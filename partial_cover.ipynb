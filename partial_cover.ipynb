{
 "cells": [
  {
   "cell_type": "markdown",
   "metadata": {},
   "source": [
    "# Subset touching problem\n",
    "\n",
    "The purpose of this notebook is to define a partial set cover problem of sorts and demonstrate a greedy algorithm to solve it."
   ]
  },
  {
   "cell_type": "code",
   "execution_count": 205,
   "metadata": {},
   "outputs": [],
   "source": [
    "# import set"
   ]
  },
  {
   "cell_type": "markdown",
   "metadata": {},
   "source": [
    "### Problem input: a list of sets\n",
    "\n",
    "The only input to the problem is an arbitrary list of subsets of the set of natural numbers"
   ]
  },
  {
   "cell_type": "code",
   "execution_count": 206,
   "metadata": {},
   "outputs": [
    {
     "name": "stdout",
     "output_type": "stream",
     "text": [
      "{10: {'a', 'c', 'b'}, 11: {'c', 'b'}, 12: {'c', 'd', 'b'}}\n"
     ]
    }
   ],
   "source": [
    "elements_by_subset = {10: set(\"abc\"), 11: set(\"bc\"), 12: set(\"bcd\")}\n",
    "print(elements_by_subset)"
   ]
  },
  {
   "cell_type": "markdown",
   "metadata": {},
   "source": [
    "### Data structure to keep track of algorithm progress"
   ]
  },
  {
   "cell_type": "code",
   "execution_count": 207,
   "metadata": {},
   "outputs": [
    {
     "name": "stdout",
     "output_type": "stream",
     "text": [
      "{'subsets_by_element': {'a': {10}, 'c': {10, 11, 12}, 'b': {10, 11, 12}, 'd': {12}}}\n",
      "most_frequent_element c\n",
      "{'subsets_by_element': {'a': {10}, 'b': {10, 11, 12}, 'd': {12}}}\n",
      "{'subsets_by_element': {'a': {10}, 'b': {10, 11, 12}, 'd': {12}}}\n",
      "most_frequent_element b\n"
     ]
    },
    {
     "ename": "KeyError",
     "evalue": "10",
     "output_type": "error",
     "traceback": [
      "\u001b[0;31m---------------------------------------------------------------------------\u001b[0m",
      "\u001b[0;31mKeyError\u001b[0m                                  Traceback (most recent call last)",
      "Cell \u001b[0;32mIn[207], line 28\u001b[0m\n\u001b[1;32m     26\u001b[0m set_toucher \u001b[38;5;241m=\u001b[39m SetToucher(elements_by_subset)\n\u001b[1;32m     27\u001b[0m \u001b[38;5;66;03m#print(set_toucher)\u001b[39;00m\n\u001b[0;32m---> 28\u001b[0m \u001b[43mset_toucher\u001b[49m\u001b[38;5;241;43m.\u001b[39;49m\u001b[43mtouch_all\u001b[49m\u001b[43m(\u001b[49m\u001b[43m)\u001b[49m\n\u001b[1;32m     29\u001b[0m \u001b[38;5;66;03m#print(set_toucher)\u001b[39;00m\n",
      "Cell \u001b[0;32mIn[207], line 23\u001b[0m, in \u001b[0;36mSetToucher.touch_all\u001b[0;34m(self)\u001b[0m\n\u001b[1;32m     21\u001b[0m \u001b[38;5;28mprint\u001b[39m(\u001b[38;5;28mself\u001b[39m)\n\u001b[1;32m     22\u001b[0m \u001b[38;5;28mprint\u001b[39m(\u001b[38;5;124m\"\u001b[39m\u001b[38;5;124mmost_frequent_element\u001b[39m\u001b[38;5;124m\"\u001b[39m, most_frequent_element)\n\u001b[0;32m---> 23\u001b[0m \u001b[38;5;28;43mself\u001b[39;49m\u001b[38;5;241;43m.\u001b[39;49m\u001b[43mtouch\u001b[49m\u001b[43m(\u001b[49m\u001b[43mmost_frequent_element\u001b[49m\u001b[43m)\u001b[49m\n\u001b[1;32m     24\u001b[0m \u001b[38;5;28mprint\u001b[39m(\u001b[38;5;28mself\u001b[39m)\n",
      "Cell \u001b[0;32mIn[207], line 16\u001b[0m, in \u001b[0;36mSetToucher.touch\u001b[0;34m(self, element)\u001b[0m\n\u001b[1;32m     14\u001b[0m \u001b[38;5;28;01mdef\u001b[39;00m\u001b[38;5;250m \u001b[39m\u001b[38;5;21mtouch\u001b[39m(\u001b[38;5;28mself\u001b[39m, element: \u001b[38;5;28many\u001b[39m):\n\u001b[1;32m     15\u001b[0m     \u001b[38;5;28;01mfor\u001b[39;00m subset \u001b[38;5;129;01min\u001b[39;00m \u001b[38;5;28mself\u001b[39m\u001b[38;5;241m.\u001b[39msubsets_by_element[element]:\n\u001b[0;32m---> 16\u001b[0m         \u001b[38;5;28;43mself\u001b[39;49m\u001b[38;5;241;43m.\u001b[39;49m\u001b[43melements_by_subset\u001b[49m\u001b[38;5;241;43m.\u001b[39;49m\u001b[43mpop\u001b[49m\u001b[43m(\u001b[49m\u001b[43msubset\u001b[49m\u001b[43m)\u001b[49m\n\u001b[1;32m     17\u001b[0m     \u001b[38;5;28mself\u001b[39m\u001b[38;5;241m.\u001b[39msubsets_by_element\u001b[38;5;241m.\u001b[39mpop(element)\n",
      "\u001b[0;31mKeyError\u001b[0m: 10"
     ]
    }
   ],
   "source": [
    "class SetToucher:\n",
    "    def __init__(self, elements_by_subset: dict):\n",
    "        self.elements_by_subset = elements_by_subset.copy()\n",
    "        self.subsets_by_element = dict()\n",
    "        for subset, elements in elements_by_subset.items():\n",
    "            for element in elements:\n",
    "                if element not in self.subsets_by_element:\n",
    "                    self.subsets_by_element[element] = set()\n",
    "                self.subsets_by_element[element].add(subset)\n",
    "    def __repr__(self):\n",
    "        d = dict()\n",
    "        d[\"subsets_by_element\"] = self.subsets_by_element\n",
    "        return d.__repr__()\n",
    "    def touch(self, element: any):\n",
    "        for subset in self.subsets_by_element[element]:\n",
    "            self.elements_by_subset.pop(subset)\n",
    "        self.subsets_by_element.pop(element)\n",
    "    def touch_all(self):\n",
    "        while len(self.subsets_by_element) > 0:\n",
    "            most_frequent_element = max(self.subsets_by_element, key=lambda k: len(self.subsets_by_element[k]))\n",
    "            print(self)\n",
    "            print(\"most_frequent_element\", most_frequent_element)\n",
    "            self.touch(most_frequent_element)\n",
    "            print(self)\n",
    "\n",
    "set_toucher = SetToucher(elements_by_subset)\n",
    "#print(set_toucher)\n",
    "set_toucher.touch_all()\n",
    "#print(set_toucher)"
   ]
  }
 ],
 "metadata": {
  "kernelspec": {
   "display_name": "venv1",
   "language": "python",
   "name": "python3"
  },
  "language_info": {
   "codemirror_mode": {
    "name": "ipython",
    "version": 3
   },
   "file_extension": ".py",
   "mimetype": "text/x-python",
   "name": "python",
   "nbconvert_exporter": "python",
   "pygments_lexer": "ipython3",
   "version": "3.13.2"
  }
 },
 "nbformat": 4,
 "nbformat_minor": 2
}
