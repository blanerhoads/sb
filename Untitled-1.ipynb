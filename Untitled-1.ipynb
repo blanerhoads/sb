{
 "cells": [
  {
   "cell_type": "markdown",
   "metadata": {},
   "source": [
    "# Import Required Libraries\n",
    "Import the necessary libraries, including pandas."
   ]
  },
  {
   "cell_type": "code",
   "execution_count": null,
   "metadata": {},
   "outputs": [
    {
     "ename": "",
     "evalue": "",
     "output_type": "error",
     "traceback": [
      "\u001b[1;31mRunning cells with 'Python 3.8.9' requires the ipykernel package.\n",
      "\u001b[1;31mRun the following command to install 'ipykernel' into the Python environment. \n",
      "\u001b[1;31mCommand: '/usr/bin/python3 -m pip install ipykernel -U --user --force-reinstall'"
     ]
    }
   ],
   "source": [
    "# Import the necessary libraries, including pandas\n",
    "import pandas as pd"
   ]
  },
  {
   "cell_type": "markdown",
   "metadata": {},
   "source": [
    "# Load CSV File\n",
    "Load the CSV file containing transactions from Monarch Money using pandas."
   ]
  },
  {
   "cell_type": "code",
   "execution_count": null,
   "metadata": {},
   "outputs": [],
   "source": [
    "# Load CSV File\n",
    "\n",
    "# Load the CSV file containing transactions from Monarch Money using pandas\n",
    "file_path = 'path_to_your_csv_file.csv'  # Replace with the actual path to your CSV file\n",
    "transactions_df = pd.read_csv(file_path)\n",
    "\n",
    "# Display the first few rows of the dataframe to verify the data is loaded correctly\n",
    "transactions_df.head()"
   ]
  },
  {
   "cell_type": "markdown",
   "metadata": {},
   "source": [
    "# Inspect Data\n",
    "Inspect the data to understand its structure and identify relevant columns for finding duplicates."
   ]
  },
  {
   "cell_type": "code",
   "execution_count": null,
   "metadata": {},
   "outputs": [],
   "source": [
    "# Inspect Data\n",
    "\n",
    "# Display basic information about the dataframe, including column names and data types\n",
    "transactions_df.info()\n",
    "\n",
    "# Display summary statistics for numerical columns\n",
    "transactions_df.describe()\n",
    "\n",
    "# Display the first few rows of the dataframe to understand its structure\n",
    "transactions_df.head()\n",
    "\n",
    "# Display the column names to identify relevant columns for finding duplicates\n",
    "transactions_df.columns"
   ]
  },
  {
   "cell_type": "markdown",
   "metadata": {},
   "source": [
    "# Find Duplicate Transactions\n",
    "Use pandas to find duplicate transactions based on relevant columns such as date, amount, and description."
   ]
  },
  {
   "cell_type": "code",
   "execution_count": null,
   "metadata": {},
   "outputs": [],
   "source": [
    "# Find Duplicate Transactions\n",
    "\n",
    "# Identify duplicate transactions based on relevant columns such as date, amount, and description\n",
    "duplicate_transactions = transactions_df[transactions_df.duplicated(subset=['date', 'amount', 'description'], keep=False)]\n",
    "\n",
    "# Display the duplicate transactions\n",
    "duplicate_transactions"
   ]
  },
  {
   "cell_type": "markdown",
   "metadata": {},
   "source": [
    "# Remove Duplicate Transactions\n",
    "Remove the duplicate transactions from the DataFrame and save the cleaned data back to a CSV file."
   ]
  },
  {
   "cell_type": "code",
   "execution_count": null,
   "metadata": {},
   "outputs": [],
   "source": [
    "# Remove Duplicate Transactions\n",
    "\n",
    "# Remove duplicate transactions from the dataframe\n",
    "cleaned_transactions_df = transactions_df.drop_duplicates(subset=['date', 'amount', 'description'])\n",
    "\n",
    "# Save the cleaned data back to a CSV file\n",
    "cleaned_file_path = 'path_to_cleaned_csv_file.csv'  # Replace with the desired path for the cleaned CSV file\n",
    "cleaned_transactions_df.to_csv(cleaned_file_path, index=False)\n",
    "\n",
    "# Display the first few rows of the cleaned dataframe to verify duplicates are removed\n",
    "cleaned_transactions_df.head()"
   ]
  }
 ],
 "metadata": {
  "kernelspec": {
   "display_name": "Python 3",
   "language": "python",
   "name": "python3"
  },
  "language_info": {
   "name": "python",
   "version": "3.8.9"
  }
 },
 "nbformat": 4,
 "nbformat_minor": 2
}
