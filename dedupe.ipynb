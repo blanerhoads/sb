{
 "cells": [
  {
   "cell_type": "code",
   "execution_count": 7,
   "metadata": {},
   "outputs": [],
   "source": [
    "import pandas as pd\n",
    "df = pd.read_csv('transactions.csv')"
   ]
  },
  {
   "cell_type": "code",
   "execution_count": 10,
   "metadata": {},
   "outputs": [
    {
     "name": "stdout",
     "output_type": "stream",
     "text": [
      "<class 'pandas.core.frame.DataFrame'>\n",
      "RangeIndex: 2801 entries, 0 to 2800\n",
      "Data columns (total 8 columns):\n",
      " #   Column              Non-Null Count  Dtype  \n",
      "---  ------              --------------  -----  \n",
      " 0   Date                2801 non-null   object \n",
      " 1   Merchant            2801 non-null   object \n",
      " 2   Category            2801 non-null   object \n",
      " 3   Account             2801 non-null   object \n",
      " 4   Original Statement  2801 non-null   object \n",
      " 5   Notes               13 non-null     object \n",
      " 6   Amount              2801 non-null   float64\n",
      " 7   Tags                1 non-null      object \n",
      "dtypes: float64(1), object(7)\n",
      "memory usage: 175.2+ KB\n"
     ]
    },
    {
     "data": {
      "text/plain": [
       "Index(['Date', 'Merchant', 'Category', 'Account', 'Original Statement',\n",
       "       'Notes', 'Amount', 'Tags'],\n",
       "      dtype='object')"
      ]
     },
     "execution_count": 10,
     "metadata": {},
     "output_type": "execute_result"
    }
   ],
   "source": [
    "df.head()\n",
    "df.info()\n",
    "df.describe()\n",
    "df.columns"
   ]
  },
  {
   "cell_type": "code",
   "execution_count": 16,
   "metadata": {},
   "outputs": [],
   "source": [
    "dupes = df[df.duplicated(subset=['Date', 'Amount', 'Merchant'], keep=False)]"
   ]
  },
  {
   "cell_type": "markdown",
   "metadata": {},
   "source": [
    "# Remove Duplicate Transactions\n",
    "Remove the duplicate transactions from the DataFrame and save the cleaned data back to a CSV file."
   ]
  },
  {
   "cell_type": "code",
   "execution_count": null,
   "metadata": {},
   "outputs": [],
   "source": [
    "# Remove Duplicate Transactions\n",
    "\n",
    "# Remove duplicate transactions from the dataframe\n",
    "cleaned_transactions_df = df.drop_duplicates(subset=['date', 'amount', 'description'])\n",
    "\n",
    "# Save the cleaned data back to a CSV file\n",
    "cleaned_file_path = 'path_to_cleaned_csv_file.csv'  # Replace with the desired path for the cleaned CSV file\n",
    "cleaned_transactions_df.to_csv(cleaned_file_path, index=False)\n",
    "\n",
    "# Display the first few rows of the cleaned dataframe to verify duplicates are removed\n",
    "cleaned_transactions_df.head()"
   ]
  }
 ],
 "metadata": {
  "kernelspec": {
   "display_name": "venv1",
   "language": "python",
   "name": "python3"
  },
  "language_info": {
   "codemirror_mode": {
    "name": "ipython",
    "version": 3
   },
   "file_extension": ".py",
   "mimetype": "text/x-python",
   "name": "python",
   "nbconvert_exporter": "python",
   "pygments_lexer": "ipython3",
   "version": "3.13.2"
  }
 },
 "nbformat": 4,
 "nbformat_minor": 2
}
