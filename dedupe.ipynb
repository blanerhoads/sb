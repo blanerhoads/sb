{
 "cells": [
  {
   "cell_type": "code",
   "execution_count": null,
   "metadata": {},
   "outputs": [],
   "source": [
    "# df[\"Amount\"].astype(str) + \"__\" + df[\"Merchant\"].astype(str).str.replace(\" \", \"_\") + \"__\" + df[\"Date\"].astype(str)\n",
    "\n",
    "a = df[\"Amount\"].astype(str)\n",
    "m = df[\"Merchant\"].astype(str).str.replace(\" \", \"_\")\n",
    "d = df[\"Date\"].astype(str)\n",
    "k = a + \"__\" + m + \"__\" + d\n",
    "df[\"key\"] = k\n"
   ]
  },
  {
   "cell_type": "code",
   "execution_count": 225,
   "metadata": {},
   "outputs": [
    {
     "name": "stdout",
     "output_type": "stream",
     "text": [
      "(2747, 7)\n"
     ]
    }
   ],
   "source": [
    "\n",
    "# dupes = df[df.duplicated(subset=['Date', 'Amount', 'Merchant'], keep=False)]\n",
    "# dupes = dupes.drop(columns=['Tags', 'Notes'])\n",
    "# dupes = dupes.query('Account != \"Chase Amazon *8969\" and not Account.str.contains(\"Visa\")')  # roth ira, venmo jake\n",
    "# dupes = dupes.query('Account == \"Chase Amazon *8969\"')  # small parking, amazon statement diffs\n",
    "# dupes = dupes.query('Account.str.contains(\"Visa\")')\n",
    "\n",
    "import pandas as pd\n",
    "cols = ['Amount', 'Merchant', 'Date']\n",
    "\n",
    "df = pd.read_csv('transactions.csv')\n",
    "df = df[cols + ['Account']]\n",
    "df = df.sort_values(by=cols)\n",
    "#df = df.iloc[:21]\n",
    "\n",
    "old = \"Fidelity Rewards Visa *4913\"\n",
    "new = \"Fidelity® Rewards Visa Signature® Card 4913 (...*****4913)\"\n",
    "# df = df.query('Account == @old or Account == @new')\n",
    "\n",
    "dd = df[cols].drop_duplicates()\n",
    "vc = df[cols].value_counts()\n",
    "dfu = dd.copy()\n",
    "dfu[\"n\"] = vc.values\n",
    "\n",
    "vc_old = df.query('Account == @old')[cols].value_counts()\n",
    "vc_new = df.query('Account == @new')[cols].value_counts()\n",
    "vc_oth = df.query('Account != @old and Account != @new')[cols].value_counts()\n",
    "\n",
    "dfu.sort_values(by=['Date', 'Amount', 'Merchant'], ascending=False, inplace=True)\n",
    "dfu.index = vc.index    # After above to prevent index ambiguity\n",
    "\n",
    "dfu[\"n_old\"] = 0\n",
    "dfu[\"n_new\"] = 0\n",
    "dfu[\"n_oth\"] = 0\n",
    "\n",
    "dfu.loc[vc_old.index, \"n_old\"] = vc_old.values\n",
    "dfu.loc[vc_new.index, \"n_new\"] = vc_new.values\n",
    "dfu.loc[vc_oth.index, \"n_oth\"] = vc_oth.values\n",
    "\n",
    "#dfu = dfu.query('n >= 2').drop(columns=cols)\n",
    "\n",
    "#print(dfu)\n",
    "print(dfu.shape)\n"
   ]
  },
  {
   "cell_type": "code",
   "execution_count": null,
   "metadata": {},
   "outputs": [],
   "source": []
  }
 ],
 "metadata": {
  "kernelspec": {
   "display_name": "venv1",
   "language": "python",
   "name": "python3"
  },
  "language_info": {
   "codemirror_mode": {
    "name": "ipython",
    "version": 3
   },
   "file_extension": ".py",
   "mimetype": "text/x-python",
   "name": "python",
   "nbconvert_exporter": "python",
   "pygments_lexer": "ipython3",
   "version": "3.13.2"
  }
 },
 "nbformat": 4,
 "nbformat_minor": 2
}
